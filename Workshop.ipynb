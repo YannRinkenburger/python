{
  "nbformat": 4,
  "nbformat_minor": 0,
  "metadata": {
    "colab": {
      "provenance": [],
      "toc_visible": true,
      "include_colab_link": true
    },
    "kernelspec": {
      "name": "python3",
      "display_name": "Python 3"
    },
    "language_info": {
      "name": "python"
    }
  },
  "cells": [
    {
      "cell_type": "markdown",
      "metadata": {
        "id": "view-in-github",
        "colab_type": "text"
      },
      "source": [
        "<a href=\"https://colab.research.google.com/github/YannRinkenburger/python/blob/main/Workshop.ipynb\" target=\"_parent\"><img src=\"https://colab.research.google.com/assets/colab-badge.svg\" alt=\"Open In Colab\"/></a>"
      ]
    },
    {
      "cell_type": "markdown",
      "source": [
        "# Erste Schritte"
      ],
      "metadata": {
        "id": "WGS6mz6olEsC"
      }
    },
    {
      "cell_type": "markdown",
      "source": [
        "**Aufgabe:** Gebe Hello World auf der Konsole aus."
      ],
      "metadata": {
        "id": "WftZ9bnOkmLh"
      }
    },
    {
      "cell_type": "code",
      "execution_count": null,
      "metadata": {
        "id": "xp0ZlIItby7t",
        "colab": {
          "base_uri": "https://localhost:8080/"
        },
        "outputId": "1ae07d44-8dd2-43d0-a3e0-a65daaa17a52"
      },
      "outputs": [
        {
          "output_type": "stream",
          "name": "stdout",
          "text": [
            "Hello World\n"
          ]
        }
      ],
      "source": [
        "print('Hello World')\n",
        "\n"
      ]
    },
    {
      "cell_type": "markdown",
      "source": [
        "# Variable und Operatoren"
      ],
      "metadata": {
        "id": "LcZ1wd0blp6E"
      }
    },
    {
      "cell_type": "markdown",
      "source": [
        "**Aufgabe 1:** Schreibe ein kleines Programm, das zwei Zahlen speichert und folgende Rechenoperationen durchführt:\n",
        "*   Addition\n",
        "*   Subtraktion\n",
        "*   Multiplikation\n",
        "*   Division"
      ],
      "metadata": {
        "id": "rekWTyaolzCk"
      }
    },
    {
      "cell_type": "code",
      "source": [
        "\n",
        "\n"
      ],
      "metadata": {
        "id": "h3teN7LxmSkv"
      },
      "execution_count": null,
      "outputs": []
    },
    {
      "cell_type": "markdown",
      "source": [
        "**Aufgabe 2:** Schreibe ein kleines Programm, das deinen Namen und dein alter speichert und eine Ausgabe tätigt.\n",
        "Beispielhafte Ausgabe:\n",
        "\n",
        "> \"Hallo, mein Name ist Yann. Ich bin 20 Jahre alt.\"\n",
        "\n"
      ],
      "metadata": {
        "id": "c0BlpZLuxjPD"
      }
    },
    {
      "cell_type": "code",
      "source": [
        "\n",
        "\n"
      ],
      "metadata": {
        "id": "TEgFWRPAymYT"
      },
      "execution_count": null,
      "outputs": []
    },
    {
      "cell_type": "markdown",
      "source": [
        "# Kontrollstrukturen"
      ],
      "metadata": {
        "id": "OOJpLVn-16SA"
      }
    },
    {
      "cell_type": "markdown",
      "source": [
        "**Aufgabe:**Schreibe ein Programm, das je nach Wetter eine passende Empfehlung ausgibt. Nutze dafür eine if/else-Struktur. Beispiele:\n",
        "\n",
        "Wenn es regnet: \"Nimm einen Regenschirm mit!\"\n",
        "\n",
        "Wenn die Sonne scheint: \"Zieh eine Sonnenbrille an!\"\n",
        "\n",
        "Sonst: \"Zieh dich normal an.\""
      ],
      "metadata": {
        "id": "rVWu3WdU2I6z"
      }
    },
    {
      "cell_type": "code",
      "source": [
        "\n",
        "\n"
      ],
      "metadata": {
        "id": "FlM9IqI_2RDh"
      },
      "execution_count": null,
      "outputs": []
    },
    {
      "cell_type": "markdown",
      "source": [],
      "metadata": {
        "id": "mMFp2xAx2p7B"
      }
    }
  ]
}