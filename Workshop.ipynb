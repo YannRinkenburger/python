{
  "nbformat": 4,
  "nbformat_minor": 0,
  "metadata": {
    "colab": {
      "provenance": [],
      "toc_visible": true,
      "include_colab_link": true
    },
    "kernelspec": {
      "name": "python3",
      "display_name": "Python 3"
    },
    "language_info": {
      "name": "python"
    }
  },
  "cells": [
    {
      "cell_type": "markdown",
      "metadata": {
        "id": "view-in-github",
        "colab_type": "text"
      },
      "source": [
        "<a href=\"https://colab.research.google.com/github/YannRinkenburger/python/blob/main/Workshop.ipynb\" target=\"_parent\"><img src=\"https://colab.research.google.com/assets/colab-badge.svg\" alt=\"Open In Colab\"/></a>"
      ]
    },
    {
      "cell_type": "markdown",
      "source": [
        "# Erste Schritte"
      ],
      "metadata": {
        "id": "WGS6mz6olEsC"
      }
    },
    {
      "cell_type": "markdown",
      "source": [
        "**Aufgabe:** Gebe Hello World auf der Konsole aus."
      ],
      "metadata": {
        "id": "WftZ9bnOkmLh"
      }
    },
    {
      "cell_type": "code",
      "execution_count": null,
      "metadata": {
        "id": "xp0ZlIItby7t",
        "colab": {
          "base_uri": "https://localhost:8080/"
        },
        "outputId": "66674b52-8507-4680-9a65-82f8f7d674ec"
      },
      "outputs": [
        {
          "output_type": "stream",
          "name": "stdout",
          "text": [
            "Hello World\n"
          ]
        }
      ],
      "source": [
        "print('Hello World')\n"
      ]
    },
    {
      "cell_type": "markdown",
      "source": [
        "# Variable und Operatoren"
      ],
      "metadata": {
        "id": "LcZ1wd0blp6E"
      }
    },
    {
      "cell_type": "markdown",
      "source": [
        "**Aufgabe 1:** Schreibe ein kleines Programm, das zwei Zahlen speichert und folgende Rechenoperationen durchführt:\n",
        "*   Addition\n",
        "*   Subtraktion\n",
        "*   Multiplikation\n",
        "*   Division"
      ],
      "metadata": {
        "id": "rekWTyaolzCk"
      }
    },
    {
      "cell_type": "code",
      "source": [
        "\n",
        "\n"
      ],
      "metadata": {
        "id": "h3teN7LxmSkv"
      },
      "execution_count": null,
      "outputs": []
    },
    {
      "cell_type": "markdown",
      "source": [
        "**Aufgabe 2:** Schreibe ein kleines Programm, das deinen Namen und dein alter speichert und eine Ausgabe tätigt.\n",
        "Beispielhafte Ausgabe:\n",
        "\n",
        "> \"Hallo, mein Name ist Yann. Ich bin 20 Jahre alt.\"\n",
        "\n"
      ],
      "metadata": {
        "id": "c0BlpZLuxjPD"
      }
    },
    {
      "cell_type": "code",
      "source": [
        "\n",
        "\n"
      ],
      "metadata": {
        "id": "TEgFWRPAymYT"
      },
      "execution_count": null,
      "outputs": []
    },
    {
      "cell_type": "markdown",
      "source": [
        "# Kontrollstrukturen"
      ],
      "metadata": {
        "id": "OOJpLVn-16SA"
      }
    },
    {
      "cell_type": "markdown",
      "source": [
        "**Aufgabe 1:** Schreibe ein Programm, das je nach Wetter eine passende Empfehlung ausgibt. Nutze dafür eine if/else-Struktur. Beispiele:\n",
        "\n",
        "Wenn es regnet: \"Nimm einen Regenschirm mit!\"\n",
        "\n",
        "Wenn die Sonne scheint: \"Zieh eine Sonnenbrille an!\"\n",
        "\n",
        "Sonst: \"Zieh dich normal an.\""
      ],
      "metadata": {
        "id": "rVWu3WdU2I6z"
      }
    },
    {
      "cell_type": "code",
      "source": [
        "\n",
        "\n"
      ],
      "metadata": {
        "id": "FlM9IqI_2RDh"
      },
      "execution_count": null,
      "outputs": []
    },
    {
      "cell_type": "markdown",
      "source": [
        "**Aufgabe 2:** Erstelle zwei Variablen alterMarie und alterMax und weise ihnen beliebige positive Werte zu.​​\n",
        "\n",
        "Prüfe, ob Marie und Max gleich alt sind. Wenn dies zutrifft, soll „gleich alt“ in der Konsole ausgegeben werden.​​\n",
        "\n",
        "Füge weitere Bedingungen hinzu, um zu prüfen, welcher der beiden nun älter ist. Ist Marie älter, so wird „Marie ist älter“ ausgegeben, ansonsten „Max ist älter“."
      ],
      "metadata": {
        "id": "mMFp2xAx2p7B"
      }
    },
    {
      "cell_type": "code",
      "source": [
        "\n",
        "\n"
      ],
      "metadata": {
        "id": "j7TaDn7snMWY"
      },
      "execution_count": null,
      "outputs": []
    },
    {
      "cell_type": "markdown",
      "source": [
        "# Funktionen und Schleifen"
      ],
      "metadata": {
        "id": "o8RPAcDjnRVN"
      }
    },
    {
      "cell_type": "markdown",
      "source": [
        "**Aufgabe Funktionen:** Erstelle eine Methode pruefeAlter, die eine Zahl alter als Parameter entgegen nimmt. Prüfe, ob dieser Parameter größer gleich 18 ist. Trifft dies zu, so soll in der Konsole „reinlassen“ ausgegeben werden. Im anderen Fall soll „wegschicken“ in der Konsole erscheinen.​​\n",
        "\n",
        "Rufe die Methode pruefeAlter in deiner Hauptmethode einmal mit dem Wert 22 und mit dem Wert 14 auf. Nach dem ersten Aufruf sollte „reinlassen“ und nach dem zweiten Aufruf „wegschicken“ angezeigt werden. Dann hast du alles richtig gemacht."
      ],
      "metadata": {
        "id": "PwZpOPZvncNi"
      }
    },
    {
      "cell_type": "code",
      "source": [
        "\n",
        "\n"
      ],
      "metadata": {
        "id": "70FOJ1Crnja4"
      },
      "execution_count": null,
      "outputs": []
    },
    {
      "cell_type": "markdown",
      "source": [
        "**Aufgabe Schleifen:** Programmiere einen Raketen-Countdown, der von 10 auf 0 herunterzählt und dann die Rakete starten lässt​"
      ],
      "metadata": {
        "id": "zgkUMezSnjxU"
      }
    },
    {
      "cell_type": "code",
      "source": [
        "\n",
        "\n"
      ],
      "metadata": {
        "id": "cLJZTcfZnrVS"
      },
      "execution_count": null,
      "outputs": []
    },
    {
      "cell_type": "markdown",
      "source": [
        "# Abschlussaufgabe"
      ],
      "metadata": {
        "id": "IkwLgQgDnsFl"
      }
    },
    {
      "cell_type": "code",
      "source": [
        "import random\n",
        "\n",
        "def getRandomNumber():\n",
        "  randomInt = random.randint(1, 20)\n",
        "  return randomInt\n"
      ],
      "metadata": {
        "id": "Iyy5oPMQnzCb"
      },
      "execution_count": 2,
      "outputs": []
    }
  ]
}